{
 "cells": [
  {
   "cell_type": "code",
   "execution_count": 4,
   "id": "2adb0a08",
   "metadata": {},
   "outputs": [],
   "source": [
    "from pdf2image import convert_from_path\n",
    "import os\n",
    "from PIL import Image"
   ]
  },
  {
   "cell_type": "code",
   "execution_count": 5,
   "id": "a4c13bf4",
   "metadata": {},
   "outputs": [],
   "source": [
    "def is_white(pixel):\n",
    "    # RGB 모드\n",
    "    if isinstance(pixel, tuple) and len(pixel) == 3:\n",
    "        return all(channel >= 250 for channel in pixel)\n",
    "    # RGBA 모드\n",
    "    elif isinstance(pixel, tuple) and len(pixel) == 4:\n",
    "        return all(channel >= 250 for channel in pixel[:3])\n",
    "    # 그레이스케일 모드\n",
    "    elif isinstance(pixel, int):\n",
    "        return pixel >= 250\n",
    "    return False"
   ]
  },
  {
   "cell_type": "code",
   "execution_count": 6,
   "id": "45e85b2f",
   "metadata": {},
   "outputs": [],
   "source": [
    "def split_col_by_height_rgb(cols, crop_height=40):\n",
    "    cols_segments = []\n",
    "\n",
    "    for col in cols:\n",
    "        width, height = col.size\n",
    "        segments = []\n",
    "        current_segment = None\n",
    "        flag = 0\n",
    "\n",
    "        for y in range(0, height, crop_height):\n",
    "            # 박스 정의 (왼쪽, 위쪽, 오른쪽, 아래쪽)\n",
    "            box = (0, y, width, min(y + crop_height, height))\n",
    "            crop_segment = col.crop(box)\n",
    "            pixels = list(crop_segment.getdata())\n",
    "\n",
    "            # 흰색 구간 여부 확인\n",
    "            is_white_segment = all(pixel == (255, 255, 255) for pixel in pixels)\n",
    "            \n",
    "            if is_white_segment:\n",
    "                # 흰색 구간일 때\n",
    "                if flag == 1 and current_segment:\n",
    "                    # flag가 1이었으나 흰색 구간이 나오면 현재까지의 구간을 segments에 추가\n",
    "                    segments.append(current_segment)\n",
    "                    current_segment = None\n",
    "                flag = 0\n",
    "            else:\n",
    "                # 흰색이 아닌 구간일 때\n",
    "                if flag == 0:\n",
    "                    # 새로운 구간 시작\n",
    "                    current_segment = crop_segment.copy()\n",
    "                else:\n",
    "                    # 연속된 비흰색 구간 합치기\n",
    "                    new_height = current_segment.height + crop_segment.height\n",
    "                    combined_segment = Image.new('RGB', (width, new_height))\n",
    "                    combined_segment.paste(current_segment, (0, 0))\n",
    "                    combined_segment.paste(crop_segment, (0, current_segment.height))\n",
    "                    current_segment = combined_segment\n",
    "\n",
    "                flag = 1\n",
    "\n",
    "        # 마지막 세그먼트를 추가합니다. - 마지막은 페이지 번호이므로 제외\n",
    "        # if current_segment:\n",
    "        #     segments.append(current_segment)\n",
    "\n",
    "        # 열 정보 저장\n",
    "        cols_segments.append(segments)\n",
    "\n",
    "    return cols_segments"
   ]
  },
  {
   "cell_type": "code",
   "execution_count": 7,
   "id": "8fc7f0e6",
   "metadata": {},
   "outputs": [],
   "source": [
    "def split_image_by_columns(image, col_count=2):\n",
    "    width, height = image.size\n",
    "    column_width = (width - (col_count - 1) * 3) // col_count  # 열 간의 경계선 3px 제외\n",
    "\n",
    "    cropped_col_images = []\n",
    "\n",
    "    for i in range(col_count):\n",
    "        left = i * (column_width + 3)\n",
    "        right = left + column_width\n",
    "        cropped_col_image = image.crop((left, 0, right, height))\n",
    "        cropped_col_images.append(cropped_col_image)\n",
    "\n",
    "    return cropped_col_images"
   ]
  },
  {
   "cell_type": "code",
   "execution_count": 8,
   "id": "963c639f-2b26-48f8-a129-cfa54a3fb7ef",
   "metadata": {},
   "outputs": [],
   "source": [
    "def pdf_to_images(pdf_path, output_folder):\n",
    "    if not os.path.exists(output_folder):\n",
    "        os.makedirs(output_folder)\n",
    "\n",
    "    images = convert_from_path(pdf_path)\n",
    "\n",
    "    return images"
   ]
  },
  {
   "cell_type": "code",
   "execution_count": 9,
   "id": "a0b13977",
   "metadata": {},
   "outputs": [],
   "source": [
    "def pdf_to_split_boxes(pdf_path, output_folder, col_count):\n",
    "    images = pdf_to_images(pdf_path, output_folder)\n",
    "    pdf_dict = {}\n",
    "\n",
    "    for page_num, image in enumerate(images):\n",
    "        page_key = f'page_{page_num + 1}'\n",
    "        pdf_dict[page_key] = {\n",
    "                'image': image,\n",
    "            }\n",
    "\n",
    "        # output_page_folder = os.path.join(output_folder, page_key)\n",
    "        # if not os.path.exists(output_page_folder):\n",
    "        #     os.makedirs(output_page_folder)\n",
    "\n",
    "        col_images = split_image_by_columns(image, col_count)\n",
    "        cols_box_images = split_col_by_height_rgb(col_images)\n",
    "\n",
    "        for col_num, col_val in enumerate(col_images):\n",
    "            col_key = f'col_{col_num + 1}'\n",
    "\n",
    "            pdf_dict[page_key][col_key] = {\n",
    "                'col_image': col_val\n",
    "            }\n",
    "\n",
    "            # col_path = os.path.join(output_page_folder, f'{col_key}.png')\n",
    "            # col_val.save(col_path, 'PNG')\n",
    "\n",
    "            col_box_images = cols_box_images[col_num]\n",
    "            for box_num, box_val in enumerate(col_box_images):\n",
    "                box_key = f'box_{box_num + 1}'\n",
    "\n",
    "                pdf_dict[page_key][col_key][box_key] = {\n",
    "                    'box_image': box_val\n",
    "                }\n",
    "\n",
    "                format_nums = f\"C{col_num + 1:02d}B{box_num + 1:04d}\"\n",
    "                box_path = os.path.join(output_folder, f'{page_key}_{format_nums}.png')\n",
    "                box_val.save(box_path, 'PNG')\n",
    "        \n",
    "    return pdf_dict"
   ]
  },
  {
   "cell_type": "code",
   "execution_count": 10,
   "id": "7c714acd",
   "metadata": {},
   "outputs": [],
   "source": [
    "def convert_all_pdfs_in_folder(folder_path, col_count=2):\n",
    "    for file_name in os.listdir(folder_path):\n",
    "        if file_name.endswith('.pdf'):\n",
    "            pdf_path = os.path.join(folder_path, file_name)\n",
    "            output_folder = os.path.join(folder_path, os.path.splitext(file_name)[0])\n",
    "            \n",
    "            print(f\"{pdf_path} 작업 시작\")\n",
    "            pdf_dict = {\"pdf_name\": file_name, \"pdf_val\": pdf_to_split_boxes(pdf_path, output_folder, col_count)}\n",
    "\n",
    "            for key, val in pdf_dict.items():\n",
    "                print(f'{key}: {val}')"
   ]
  },
  {
   "cell_type": "code",
   "execution_count": 11,
   "id": "f614f1f6",
   "metadata": {},
   "outputs": [
    {
     "name": "stdout",
     "output_type": "stream",
     "text": [
      "../test_data/test_pdf/test_pdf_2.pdf 작업 시작\n",
      "pdf_name: test_pdf_2.pdf\n",
      "pdf_val: {'page_1': {'image': <PIL.PpmImagePlugin.PpmImageFile image mode=RGB size=2023x2864 at 0x11AD0D5A0>, 'col_1': {'col_image': <PIL.Image.Image image mode=RGB size=1010x2864 at 0x11AD38190>, 'box_1': {'box_image': <PIL.Image.Image image mode=RGB size=1010x480 at 0x11ABBE5C0>}, 'box_2': {'box_image': <PIL.Image.Image image mode=RGB size=1010x240 at 0x11AB89780>}, 'box_3': {'box_image': <PIL.Image.Image image mode=RGB size=1010x200 at 0x11ABBE740>}, 'box_4': {'box_image': <PIL.Image.Image image mode=RGB size=1010x240 at 0x11A8AAC20>}, 'box_5': {'box_image': <PIL.Image.Image image mode=RGB size=1010x200 at 0x11AB4DEA0>}, 'box_6': {'box_image': <PIL.Image.Image image mode=RGB size=1010x80 at 0x11AA2E2C0>}}, 'col_2': {'col_image': <PIL.Image.Image image mode=RGB size=1010x2864 at 0x11AD3B4F0>, 'box_1': {'box_image': <PIL.Image.Image image mode=RGB size=1010x200 at 0x11AA2F2B0>}, 'box_2': {'box_image': <PIL.Image.Image image mode=RGB size=1010x240 at 0x11AA2F580>}, 'box_3': {'box_image': <PIL.Image.Image image mode=RGB size=1010x120 at 0x11AA2CAF0>}, 'box_4': {'box_image': <PIL.Image.Image image mode=RGB size=1010x120 at 0x11AB83FA0>}, 'box_5': {'box_image': <PIL.Image.Image image mode=RGB size=1010x160 at 0x11AA2F760>}, 'box_6': {'box_image': <PIL.Image.Image image mode=RGB size=1010x200 at 0x11AC87B80>}, 'box_7': {'box_image': <PIL.Image.Image image mode=RGB size=1010x80 at 0x11AD68160>}, 'box_8': {'box_image': <PIL.Image.Image image mode=RGB size=1010x40 at 0x11AA2FD90>}}}, 'page_2': {'image': <PIL.PpmImagePlugin.PpmImageFile image mode=RGB size=2023x2864 at 0x11ABBE8F0>, 'col_1': {'col_image': <PIL.Image.Image image mode=RGB size=1010x2864 at 0x11AD6B730>, 'box_1': {'box_image': <PIL.Image.Image image mode=RGB size=1010x320 at 0x11AD0EEC0>}, 'box_2': {'box_image': <PIL.Image.Image image mode=RGB size=1010x240 at 0x11ABC8880>}, 'box_3': {'box_image': <PIL.Image.Image image mode=RGB size=1010x360 at 0x11AA2FC40>}, 'box_4': {'box_image': <PIL.Image.Image image mode=RGB size=1010x160 at 0x11ABC8D60>}, 'box_5': {'box_image': <PIL.Image.Image image mode=RGB size=1010x200 at 0x11ABC88E0>}, 'box_6': {'box_image': <PIL.Image.Image image mode=RGB size=1010x80 at 0x11ABC8D90>}}, 'col_2': {'col_image': <PIL.Image.Image image mode=RGB size=1010x2864 at 0x11AD3AB30>, 'box_1': {'box_image': <PIL.Image.Image image mode=RGB size=1010x120 at 0x11ABC90F0>}, 'box_2': {'box_image': <PIL.Image.Image image mode=RGB size=1010x240 at 0x11ABC9090>}, 'box_3': {'box_image': <PIL.Image.Image image mode=RGB size=1010x280 at 0x11ABC90C0>}, 'box_4': {'box_image': <PIL.Image.Image image mode=RGB size=1010x240 at 0x11ABC8FA0>}, 'box_5': {'box_image': <PIL.Image.Image image mode=RGB size=1010x200 at 0x11ABC88B0>}, 'box_6': {'box_image': <PIL.Image.Image image mode=RGB size=1010x80 at 0x11ABC8FD0>}}}, 'page_3': {'image': <PIL.PpmImagePlugin.PpmImageFile image mode=RGB size=2023x2864 at 0x11ABBEC50>, 'col_1': {'col_image': <PIL.Image.Image image mode=RGB size=1010x2864 at 0x11AD0C190>, 'box_1': {'box_image': <PIL.Image.Image image mode=RGB size=1010x240 at 0x11ABC8EE0>}, 'box_2': {'box_image': <PIL.Image.Image image mode=RGB size=1010x160 at 0x11ABC8E80>}, 'box_3': {'box_image': <PIL.Image.Image image mode=RGB size=1010x200 at 0x11ABC8EB0>}, 'box_4': {'box_image': <PIL.Image.Image image mode=RGB size=1010x200 at 0x11ABC8F40>}, 'box_5': {'box_image': <PIL.Image.Image image mode=RGB size=1010x480 at 0x11ABC8DF0>}, 'box_6': {'box_image': <PIL.Image.Image image mode=RGB size=1010x80 at 0x11ABC8E20>}}, 'col_2': {'col_image': <PIL.Image.Image image mode=RGB size=1010x2864 at 0x11A8AA0B0>, 'box_1': {'box_image': <PIL.Image.Image image mode=RGB size=1010x120 at 0x11ABC8F10>}, 'box_2': {'box_image': <PIL.Image.Image image mode=RGB size=1010x240 at 0x11ABC8D00>}, 'box_3': {'box_image': <PIL.Image.Image image mode=RGB size=1010x200 at 0x11ABC8CD0>}, 'box_4': {'box_image': <PIL.Image.Image image mode=RGB size=1010x80 at 0x11ABC8CA0>}, 'box_5': {'box_image': <PIL.Image.Image image mode=RGB size=1010x80 at 0x11ABC8C70>}, 'box_6': {'box_image': <PIL.Image.Image image mode=RGB size=1010x200 at 0x11ABC8E50>}, 'box_7': {'box_image': <PIL.Image.Image image mode=RGB size=1010x80 at 0x11ABC8DC0>}}}, 'page_4': {'image': <PIL.PpmImagePlugin.PpmImageFile image mode=RGB size=2023x2864 at 0x11ABBEEF0>, 'col_1': {'col_image': <PIL.Image.Image image mode=RGB size=1010x2864 at 0x11AD0F250>, 'box_1': {'box_image': <PIL.Image.Image image mode=RGB size=1010x200 at 0x11ABC8BE0>}, 'box_2': {'box_image': <PIL.Image.Image image mode=RGB size=1010x200 at 0x11ABC8C40>}, 'box_3': {'box_image': <PIL.Image.Image image mode=RGB size=1010x240 at 0x11ABC85E0>}, 'box_4': {'box_image': <PIL.Image.Image image mode=RGB size=1010x160 at 0x11ABC8520>}, 'box_5': {'box_image': <PIL.Image.Image image mode=RGB size=1010x120 at 0x11ABC85B0>}, 'box_6': {'box_image': <PIL.Image.Image image mode=RGB size=1010x40 at 0x11ABC8C10>}}, 'col_2': {'col_image': <PIL.Image.Image image mode=RGB size=1010x2864 at 0x11ABC8BB0>, 'box_1': {'box_image': <PIL.Image.Image image mode=RGB size=1010x120 at 0x11ABC8610>}, 'box_2': {'box_image': <PIL.Image.Image image mode=RGB size=1010x200 at 0x11ABC8640>}, 'box_3': {'box_image': <PIL.Image.Image image mode=RGB size=1010x200 at 0x11ABC84F0>}, 'box_4': {'box_image': <PIL.Image.Image image mode=RGB size=1010x200 at 0x11ABC8F70>}, 'box_5': {'box_image': <PIL.Image.Image image mode=RGB size=1010x360 at 0x11ABC91B0>}, 'box_6': {'box_image': <PIL.Image.Image image mode=RGB size=1010x240 at 0x11ABC9150>}, 'box_7': {'box_image': <PIL.Image.Image image mode=RGB size=1010x80 at 0x11ABC91E0>}}}, 'page_5': {'image': <PIL.PpmImagePlugin.PpmImageFile image mode=RGB size=2023x2864 at 0x11ABBF5B0>, 'col_1': {'col_image': <PIL.Image.Image image mode=RGB size=1010x2864 at 0x11AD0D360>, 'box_1': {'box_image': <PIL.Image.Image image mode=RGB size=1010x200 at 0x11ABC9210>}, 'box_2': {'box_image': <PIL.Image.Image image mode=RGB size=1010x240 at 0x11ABC87C0>}, 'box_3': {'box_image': <PIL.Image.Image image mode=RGB size=1010x160 at 0x11ABC9300>}, 'box_4': {'box_image': <PIL.Image.Image image mode=RGB size=1010x160 at 0x11ABC9330>}, 'box_5': {'box_image': <PIL.Image.Image image mode=RGB size=1010x160 at 0x11ABC9360>}, 'box_6': {'box_image': <PIL.Image.Image image mode=RGB size=1010x80 at 0x11ABC92D0>}}, 'col_2': {'col_image': <PIL.Image.Image image mode=RGB size=1010x2864 at 0x11ABC9240>, 'box_1': {'box_image': <PIL.Image.Image image mode=RGB size=1010x200 at 0x11ABC83D0>}, 'box_2': {'box_image': <PIL.Image.Image image mode=RGB size=1010x440 at 0x11ABC93F0>}, 'box_3': {'box_image': <PIL.Image.Image image mode=RGB size=1010x240 at 0x11ABC93C0>}, 'box_4': {'box_image': <PIL.Image.Image image mode=RGB size=1010x360 at 0x11ABC9480>}, 'box_5': {'box_image': <PIL.Image.Image image mode=RGB size=1010x120 at 0x11ABC9420>}, 'box_6': {'box_image': <PIL.Image.Image image mode=RGB size=1010x80 at 0x11ABC9450>}}}, 'page_6': {'image': <PIL.PpmImagePlugin.PpmImageFile image mode=RGB size=2023x2864 at 0x11ABBF640>, 'col_1': {'col_image': <PIL.Image.Image image mode=RGB size=1010x2864 at 0x11ABC94B0>, 'box_1': {'box_image': <PIL.Image.Image image mode=RGB size=1010x200 at 0x11ABC92A0>}, 'box_2': {'box_image': <PIL.Image.Image image mode=RGB size=1010x240 at 0x11ABC95A0>}, 'box_3': {'box_image': <PIL.Image.Image image mode=RGB size=1010x200 at 0x11ABC94E0>}, 'box_4': {'box_image': <PIL.Image.Image image mode=RGB size=1010x200 at 0x11ABC95D0>}, 'box_5': {'box_image': <PIL.Image.Image image mode=RGB size=1010x320 at 0x11ABC9270>}, 'box_6': {'box_image': <PIL.Image.Image image mode=RGB size=1010x320 at 0x11ABC9630>}, 'box_7': {'box_image': <PIL.Image.Image image mode=RGB size=1010x40 at 0x11ABC9600>}}, 'col_2': {'col_image': <PIL.Image.Image image mode=RGB size=1010x2864 at 0x11ABC9510>, 'box_1': {'box_image': <PIL.Image.Image image mode=RGB size=1010x320 at 0x11ABC9540>}, 'box_2': {'box_image': <PIL.Image.Image image mode=RGB size=1010x240 at 0x11ABC9570>}, 'box_3': {'box_image': <PIL.Image.Image image mode=RGB size=1010x320 at 0x11ABC96F0>}, 'box_4': {'box_image': <PIL.Image.Image image mode=RGB size=1010x120 at 0x11ABC9660>}, 'box_5': {'box_image': <PIL.Image.Image image mode=RGB size=1010x280 at 0x11ABC9750>}, 'box_6': {'box_image': <PIL.Image.Image image mode=RGB size=1010x80 at 0x11ABC9810>}}}, 'page_7': {'image': <PIL.PpmImagePlugin.PpmImageFile image mode=RGB size=2023x2864 at 0x11ABBE8C0>, 'col_1': {'col_image': <PIL.Image.Image image mode=RGB size=1010x2864 at 0x11ABC9690>, 'box_1': {'box_image': <PIL.Image.Image image mode=RGB size=1010x320 at 0x11ABC9720>}, 'box_2': {'box_image': <PIL.Image.Image image mode=RGB size=1010x240 at 0x11ABC98A0>}, 'box_3': {'box_image': <PIL.Image.Image image mode=RGB size=1010x240 at 0x11ABC98D0>}, 'box_4': {'box_image': <PIL.Image.Image image mode=RGB size=1010x200 at 0x11ABC9900>}, 'box_5': {'box_image': <PIL.Image.Image image mode=RGB size=1010x240 at 0x11ABC97B0>}}, 'col_2': {'col_image': <PIL.Image.Image image mode=RGB size=1010x2864 at 0x11ABC9870>, 'box_1': {'box_image': <PIL.Image.Image image mode=RGB size=1010x200 at 0x11ABC9960>}}}}\n",
      "../test_data/test_pdf/test_pdf_1.pdf 작업 시작\n",
      "pdf_name: test_pdf_1.pdf\n",
      "pdf_val: {'page_1': {'image': <PIL.PpmImagePlugin.PpmImageFile image mode=RGB size=2023x2864 at 0x11ABC9C00>, 'col_1': {'col_image': <PIL.Image.Image image mode=RGB size=1010x2864 at 0x11ABC99C0>, 'box_1': {'box_image': <PIL.Image.Image image mode=RGB size=1010x400 at 0x11ABC9B70>}, 'box_2': {'box_image': <PIL.Image.Image image mode=RGB size=1010x200 at 0x11ABC9A50>}, 'box_3': {'box_image': <PIL.Image.Image image mode=RGB size=1010x200 at 0x11ABC9A80>}, 'box_4': {'box_image': <PIL.Image.Image image mode=RGB size=1010x160 at 0x11ABC9AB0>}, 'box_5': {'box_image': <PIL.Image.Image image mode=RGB size=1010x280 at 0x11ABC9DB0>}, 'box_6': {'box_image': <PIL.Image.Image image mode=RGB size=1010x680 at 0x11ABC9F30>}, 'box_7': {'box_image': <PIL.Image.Image image mode=RGB size=1010x80 at 0x11ABC9840>}}, 'col_2': {'col_image': <PIL.Image.Image image mode=RGB size=1010x2864 at 0x11ABC9D50>, 'box_1': {'box_image': <PIL.Image.Image image mode=RGB size=1010x400 at 0x11ABC9CF0>}, 'box_2': {'box_image': <PIL.Image.Image image mode=RGB size=1010x240 at 0x11ABC9ED0>}, 'box_3': {'box_image': <PIL.Image.Image image mode=RGB size=1010x160 at 0x11ABC9EA0>}, 'box_4': {'box_image': <PIL.Image.Image image mode=RGB size=1010x240 at 0x11ABC9C90>}, 'box_5': {'box_image': <PIL.Image.Image image mode=RGB size=1010x160 at 0x11ABC9E70>}, 'box_6': {'box_image': <PIL.Image.Image image mode=RGB size=1010x520 at 0x11ABC9F60>}, 'box_7': {'box_image': <PIL.Image.Image image mode=RGB size=1010x80 at 0x11ABC9CC0>}}}, 'page_2': {'image': <PIL.PpmImagePlugin.PpmImageFile image mode=RGB size=2023x2864 at 0x11ABC9D80>, 'col_1': {'col_image': <PIL.Image.Image image mode=RGB size=1010x2864 at 0x11ABC9E40>, 'box_1': {'box_image': <PIL.Image.Image image mode=RGB size=1010x200 at 0x11ABC9C60>}, 'box_2': {'box_image': <PIL.Image.Image image mode=RGB size=1010x360 at 0x11ABC9FC0>}, 'box_3': {'box_image': <PIL.Image.Image image mode=RGB size=1010x760 at 0x11ABC9FF0>}, 'box_4': {'box_image': <PIL.Image.Image image mode=RGB size=1010x560 at 0x11ABCA020>}, 'box_5': {'box_image': <PIL.Image.Image image mode=RGB size=1010x200 at 0x11ABC9990>}, 'box_6': {'box_image': <PIL.Image.Image image mode=RGB size=1010x80 at 0x11ABC9E10>}}, 'col_2': {'col_image': <PIL.Image.Image image mode=RGB size=1010x2864 at 0x11ABC9D20>, 'box_1': {'box_image': <PIL.Image.Image image mode=RGB size=1010x280 at 0x11ABC9F00>}, 'box_2': {'box_image': <PIL.Image.Image image mode=RGB size=1010x360 at 0x11ABCA0E0>}, 'box_3': {'box_image': <PIL.Image.Image image mode=RGB size=1010x240 at 0x11ABC9C30>}, 'box_4': {'box_image': <PIL.Image.Image image mode=RGB size=1010x280 at 0x11ABCA0B0>}, 'box_5': {'box_image': <PIL.Image.Image image mode=RGB size=1010x520 at 0x11ABCA050>}, 'box_6': {'box_image': <PIL.Image.Image image mode=RGB size=1010x120 at 0x11ABCA080>}, 'box_7': {'box_image': <PIL.Image.Image image mode=RGB size=1010x80 at 0x11ABCA140>}}}, 'page_3': {'image': <PIL.PpmImagePlugin.PpmImageFile image mode=RGB size=2023x2864 at 0x11ABC96C0>, 'col_1': {'col_image': <PIL.Image.Image image mode=RGB size=1010x2864 at 0x11ABCA1A0>, 'box_1': {'box_image': <PIL.Image.Image image mode=RGB size=1010x240 at 0x11ABC9F90>}, 'box_2': {'box_image': <PIL.Image.Image image mode=RGB size=1010x360 at 0x11ABCA290>}, 'box_3': {'box_image': <PIL.Image.Image image mode=RGB size=1010x160 at 0x11ABCA2C0>}, 'box_4': {'box_image': <PIL.Image.Image image mode=RGB size=1010x200 at 0x11ABCA260>}, 'box_5': {'box_image': <PIL.Image.Image image mode=RGB size=1010x440 at 0x11ABCA2F0>}, 'box_6': {'box_image': <PIL.Image.Image image mode=RGB size=1010x360 at 0x11ABCA350>}, 'box_7': {'box_image': <PIL.Image.Image image mode=RGB size=1010x160 at 0x11ABCA380>}, 'box_8': {'box_image': <PIL.Image.Image image mode=RGB size=1010x80 at 0x11ABCA320>}}, 'col_2': {'col_image': <PIL.Image.Image image mode=RGB size=1010x2864 at 0x11ABCA200>, 'box_1': {'box_image': <PIL.Image.Image image mode=RGB size=1010x960 at 0x11ABCA3E0>}, 'box_2': {'box_image': <PIL.Image.Image image mode=RGB size=1010x240 at 0x11ABCA110>}, 'box_3': {'box_image': <PIL.Image.Image image mode=RGB size=1010x120 at 0x11ABCA1D0>}, 'box_4': {'box_image': <PIL.Image.Image image mode=RGB size=1010x440 at 0x11ABCA410>}, 'box_5': {'box_image': <PIL.Image.Image image mode=RGB size=1010x360 at 0x11ABCA4A0>}, 'box_6': {'box_image': <PIL.Image.Image image mode=RGB size=1010x80 at 0x11ABCA440>}}}, 'page_4': {'image': <PIL.PpmImagePlugin.PpmImageFile image mode=RGB size=2023x2864 at 0x11ABC9BA0>, 'col_1': {'col_image': <PIL.Image.Image image mode=RGB size=1010x2864 at 0x11ABCA230>, 'box_1': {'box_image': <PIL.Image.Image image mode=RGB size=1010x240 at 0x11ABCA560>}, 'box_2': {'box_image': <PIL.Image.Image image mode=RGB size=1010x360 at 0x11ABCA590>}, 'box_3': {'box_image': <PIL.Image.Image image mode=RGB size=1010x320 at 0x11ABCA530>}, 'box_4': {'box_image': <PIL.Image.Image image mode=RGB size=1010x200 at 0x11ABCA5C0>}, 'box_5': {'box_image': <PIL.Image.Image image mode=RGB size=1010x400 at 0x11ABCA4D0>}, 'box_6': {'box_image': <PIL.Image.Image image mode=RGB size=1010x480 at 0x11ABCA620>}, 'box_7': {'box_image': <PIL.Image.Image image mode=RGB size=1010x80 at 0x11ABCA470>}}, 'col_2': {'col_image': <PIL.Image.Image image mode=RGB size=1010x2864 at 0x11ABCA170>, 'box_1': {'box_image': <PIL.Image.Image image mode=RGB size=1010x280 at 0x11ABCA680>}, 'box_2': {'box_image': <PIL.Image.Image image mode=RGB size=1010x720 at 0x11ABCA650>}, 'box_3': {'box_image': <PIL.Image.Image image mode=RGB size=1010x760 at 0x11ABCA710>}, 'box_4': {'box_image': <PIL.Image.Image image mode=RGB size=1010x440 at 0x11ABCA5F0>}, 'box_5': {'box_image': <PIL.Image.Image image mode=RGB size=1010x80 at 0x11ABCA740>}}}, 'page_5': {'image': <PIL.PpmImagePlugin.PpmImageFile image mode=RGB size=2023x2864 at 0x11ABC9B40>, 'col_1': {'col_image': <PIL.Image.Image image mode=RGB size=1010x2864 at 0x11ABCA6B0>, 'box_1': {'box_image': <PIL.Image.Image image mode=RGB size=1010x200 at 0x11ABCA6E0>}, 'box_2': {'box_image': <PIL.Image.Image image mode=RGB size=1010x320 at 0x11ABCA800>}, 'box_3': {'box_image': <PIL.Image.Image image mode=RGB size=1010x480 at 0x11ABCA3B0>}, 'box_4': {'box_image': <PIL.Image.Image image mode=RGB size=1010x480 at 0x11ABCA7A0>}, 'box_5': {'box_image': <PIL.Image.Image image mode=RGB size=1010x160 at 0x11ABCA8C0>}, 'box_6': {'box_image': <PIL.Image.Image image mode=RGB size=1010x240 at 0x11ABCA7D0>}, 'box_7': {'box_image': <PIL.Image.Image image mode=RGB size=1010x80 at 0x11ABCA890>}}, 'col_2': {'col_image': <PIL.Image.Image image mode=RGB size=1010x2864 at 0x11ABCA770>, 'box_1': {'box_image': <PIL.Image.Image image mode=RGB size=1010x1000 at 0x11ABCA830>}, 'box_2': {'box_image': <PIL.Image.Image image mode=RGB size=1010x240 at 0x11ABCA920>}, 'box_3': {'box_image': <PIL.Image.Image image mode=RGB size=1010x920 at 0x11ABCA500>}, 'box_4': {'box_image': <PIL.Image.Image image mode=RGB size=1010x80 at 0x11ABCA980>}, 'box_5': {'box_image': <PIL.Image.Image image mode=RGB size=1010x80 at 0x11ABCA9E0>}}}, 'page_6': {'image': <PIL.PpmImagePlugin.PpmImageFile image mode=RGB size=2023x2864 at 0x11ABC9B10>, 'col_1': {'col_image': <PIL.Image.Image image mode=RGB size=1010x2864 at 0x11ABCA950>, 'box_1': {'box_image': <PIL.Image.Image image mode=RGB size=1010x200 at 0x11ABCA9B0>}, 'box_2': {'box_image': <PIL.Image.Image image mode=RGB size=1010x240 at 0x11ABCA8F0>}, 'box_3': {'box_image': <PIL.Image.Image image mode=RGB size=1010x760 at 0x11ABCAB00>}, 'box_4': {'box_image': <PIL.Image.Image image mode=RGB size=1010x240 at 0x11ABCAA70>}, 'box_5': {'box_image': <PIL.Image.Image image mode=RGB size=1010x280 at 0x11ABCAB30>}, 'box_6': {'box_image': <PIL.Image.Image image mode=RGB size=1010x160 at 0x11ABCAB90>}, 'box_7': {'box_image': <PIL.Image.Image image mode=RGB size=1010x80 at 0x11ABCAAD0>}}, 'col_2': {'col_image': <PIL.Image.Image image mode=RGB size=1010x2864 at 0x11ABCAA10>, 'box_1': {'box_image': <PIL.Image.Image image mode=RGB size=1010x80 at 0x11ABCA860>}, 'box_2': {'box_image': <PIL.Image.Image image mode=RGB size=1010x520 at 0x11ABCAA40>}, 'box_3': {'box_image': <PIL.Image.Image image mode=RGB size=1010x920 at 0x11ABCABC0>}, 'box_4': {'box_image': <PIL.Image.Image image mode=RGB size=1010x240 at 0x11ABCABF0>}, 'box_5': {'box_image': <PIL.Image.Image image mode=RGB size=1010x400 at 0x11ABCAB60>}, 'box_6': {'box_image': <PIL.Image.Image image mode=RGB size=1010x80 at 0x11ABCAC20>}}}, 'page_7': {'image': <PIL.PpmImagePlugin.PpmImageFile image mode=RGB size=2023x2864 at 0x11ABC9BD0>, 'col_1': {'col_image': <PIL.Image.Image image mode=RGB size=1010x2864 at 0x11ABCAC50>, 'box_1': {'box_image': <PIL.Image.Image image mode=RGB size=1010x760 at 0x11ABCAD40>}, 'box_2': {'box_image': <PIL.Image.Image image mode=RGB size=1010x400 at 0x11ABCACB0>}, 'box_3': {'box_image': <PIL.Image.Image image mode=RGB size=1010x680 at 0x11ABCADA0>}, 'box_4': {'box_image': <PIL.Image.Image image mode=RGB size=1010x320 at 0x11ABCADD0>}, 'box_5': {'box_image': <PIL.Image.Image image mode=RGB size=1010x80 at 0x11ABCAAA0>}}, 'col_2': {'col_image': <PIL.Image.Image image mode=RGB size=1010x2864 at 0x11ABCAD10>, 'box_1': {'box_image': <PIL.Image.Image image mode=RGB size=1010x160 at 0x11ABCAE60>}, 'box_2': {'box_image': <PIL.Image.Image image mode=RGB size=1010x360 at 0x11ABCAE90>}, 'box_3': {'box_image': <PIL.Image.Image image mode=RGB size=1010x720 at 0x11ABCAE30>}, 'box_4': {'box_image': <PIL.Image.Image image mode=RGB size=1010x320 at 0x11ABCACE0>}, 'box_5': {'box_image': <PIL.Image.Image image mode=RGB size=1010x80 at 0x11ABCAEC0>}}}}\n"
     ]
    }
   ],
   "source": [
    "folder_path = \"../test_data/test_pdf\"\n",
    "pdf_col_count = 2\n",
    "\n",
    "convert_all_pdfs_in_folder(folder_path, pdf_col_count)"
   ]
  },
  {
   "cell_type": "code",
   "execution_count": null,
   "id": "e7c965d6",
   "metadata": {},
   "outputs": [],
   "source": []
  }
 ],
 "metadata": {
  "kernelspec": {
   "display_name": "Python 3 (ipykernel)",
   "language": "python",
   "name": "python3"
  },
  "language_info": {
   "codemirror_mode": {
    "name": "ipython",
    "version": 3
   },
   "file_extension": ".py",
   "mimetype": "text/x-python",
   "name": "python",
   "nbconvert_exporter": "python",
   "pygments_lexer": "ipython3",
   "version": "3.10.14"
  }
 },
 "nbformat": 4,
 "nbformat_minor": 5
}
